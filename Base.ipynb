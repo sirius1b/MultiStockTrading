{
 "cells": [
  {
   "cell_type": "code",
   "execution_count": 5,
   "id": "bd454e10-2f95-4904-a637-bdb763d15cd2",
   "metadata": {},
   "outputs": [],
   "source": [
    "import pandas as pd\n",
    "import numpy as np\n",
    "import matplotlib \n",
    "import matplotlib.pyplot as plt\n",
    "import datetime\n",
    "import pickle\n",
    "%matplotlib inline\n"
   ]
  },
  {
   "cell_type": "code",
   "execution_count": null,
   "id": "e00efbeb-d601-4d4e-add9-4e2197623808",
   "metadata": {
    "tags": []
   },
   "outputs": [],
   "source": [
    "from finrl.apps import config\n",
    "from finrl.neo_finrl.preprocessor.yahoodownloader import YahooDownloader\n",
    "from finrl.neo_finrl.preprocessor.preprocessors import FeatureEngineer, data_split\n",
    "from finrl.neo_finrl.env_stock_trading.env_stocktrading import StockTradingEnv\n",
    "# from finrl.neo_finrl.data_processor import DataProcessor\n",
    "\n",
    "from finrl.plot import backtest_stats, backtest_plot, get_daily_return, get_baseline\n",
    "from pprint import pprint\n",
    "import sys\n",
    "import itertools"
   ]
  },
  {
   "cell_type": "code",
   "execution_count": 3,
   "id": "8d5c770f-d358-4c83-b9df-61a4dfe68c80",
   "metadata": {},
   "outputs": [],
   "source": [
    "import os\n",
    "if not os.path.exists(\"./\" + config.DATA_SAVE_DIR):\n",
    "    os.makedirs(\"./\" + config.DATA_SAVE_DIR)\n",
    "if not os.path.exists(\"./\" + config.TRAINED_MODEL_DIR):\n",
    "    os.makedirs(\"./\" + config.TRAINED_MODEL_DIR)\n",
    "if not os.path.exists(\"./\" + config.TENSORBOARD_LOG_DIR):\n",
    "    os.makedirs(\"./\" + config.TENSORBOARD_LOG_DIR)\n",
    "if not os.path.exists(\"./\" + config.RESULTS_DIR):\n",
    "    os.makedirs(\"./\" + config.RESULTS_DIR)"
   ]
  },
  {
   "cell_type": "code",
   "execution_count": 12,
   "id": "6ef990c7-081f-4b27-a16b-876826b53ea6",
   "metadata": {
    "tags": []
   },
   "outputs": [
    {
     "name": "stdout",
     "output_type": "stream",
     "text": [
      "2009-01-01\n"
     ]
    }
   ],
   "source": [
    "print(config.START_DATE)\n",
    "if not os.path.exists('./'+ config.DATA_SAVE_DIR + '/DF.pkl' ):\n",
    "    # os.makedirs('./' + config.DATA_SAVE_DIR + '/DF.pkl):\n",
    "    df = YahooDownloader(start_date = '2009-01-01',\n",
    "                         end_date = config.END_DATE, \n",
    "                         ticker_list = config.DOW_30_TICKER).fetch_data()\n",
    "    with open('./' + config.DATA_SAVE_DIR + '/DF.pkl', 'wb') as file:\n",
    "        pickle.dump(df, file)\n",
    "else:\n",
    "    with open('./' + config.DATA_SAVE_DIR + '/DF.pkl', 'rb') as file:\n",
    "        df = pickle.load(file)"
   ]
  },
  {
   "cell_type": "code",
   "execution_count": 11,
   "id": "be93cda4-a27e-4188-bd73-8a73fcbdfe10",
   "metadata": {
    "tags": []
   },
   "outputs": [],
   "source": [
    "# df[df['tic'] == 'DOW'].head(50)"
   ]
  },
  {
   "cell_type": "code",
   "execution_count": 13,
   "id": "da60dd60-8824-47be-8920-ed9950fc60c9",
   "metadata": {},
   "outputs": [],
   "source": [
    "# df.shape\n",
    "#df.sort_values(['date','tic'],ignore_index=True).head(40)\n",
    "fe = FeatureEngineer(use_technical_indicator=False, \n",
    "                     tech_indicator_list = config.TECHNICAL_INDICATORS_LIST,\n",
    "                     use_vix = False, \n",
    "                     use_turbulence = False, \n",
    "                     user_defined_feature = False)\n",
    "processed = fe.preprocess_data(df)"
   ]
  },
  {
   "cell_type": "code",
   "execution_count": 14,
   "id": "07d5e574-013d-4dae-b932-7a6ed372193b",
   "metadata": {
    "tags": []
   },
   "outputs": [],
   "source": [
    "list_ticker = processed['tic'].unique().tolist()\n",
    "list_date = list(pd.date_range(processed['date'].min(),processed['date'].max()).astype((str)))\n",
    "combination = list(itertools.product(list_date,list_ticker)) \n",
    "processed_full = pd.DataFrame(combination, columns=['date','tic']).merge(processed, on=['date','tic'],how='left')\n",
    "processed_full = processed_full[processed_full['date'].isin(processed['date'])]\n",
    "processed_full = processed_full.sort_values(['date','tic'])\n",
    "processed_full = processed_full.fillna(0)\n",
    "\n",
    "# print(processed_full.sort_values(['date','tic'], ignore_index = True).head(10))\n",
    "# print(type(processed_full))\n"
   ]
  },
  {
   "cell_type": "code",
   "execution_count": 44,
   "id": "bacb674d-0576-4e58-8062-10863e341f10",
   "metadata": {
    "collapsed": true,
    "jupyter": {
     "outputs_hidden": true
    },
    "tags": []
   },
   "outputs": [
    {
     "data": {
      "text/html": [
       "<div>\n",
       "<style scoped>\n",
       "    .dataframe tbody tr th:only-of-type {\n",
       "        vertical-align: middle;\n",
       "    }\n",
       "\n",
       "    .dataframe tbody tr th {\n",
       "        vertical-align: top;\n",
       "    }\n",
       "\n",
       "    .dataframe thead th {\n",
       "        text-align: right;\n",
       "    }\n",
       "</style>\n",
       "<table border=\"1\" class=\"dataframe\">\n",
       "  <thead>\n",
       "    <tr style=\"text-align: right;\">\n",
       "      <th></th>\n",
       "      <th>date</th>\n",
       "      <th>tic</th>\n",
       "      <th>open</th>\n",
       "      <th>high</th>\n",
       "      <th>low</th>\n",
       "      <th>close</th>\n",
       "      <th>volume</th>\n",
       "      <th>day</th>\n",
       "    </tr>\n",
       "  </thead>\n",
       "  <tbody>\n",
       "    <tr>\n",
       "      <th>0</th>\n",
       "      <td>2008-12-31</td>\n",
       "      <td>AAPL</td>\n",
       "      <td>3.070357</td>\n",
       "      <td>3.133571</td>\n",
       "      <td>3.047857</td>\n",
       "      <td>2.613433</td>\n",
       "      <td>607541200.0</td>\n",
       "      <td>2.0</td>\n",
       "    </tr>\n",
       "    <tr>\n",
       "      <th>1</th>\n",
       "      <td>2008-12-31</td>\n",
       "      <td>AMGN</td>\n",
       "      <td>57.110001</td>\n",
       "      <td>58.220001</td>\n",
       "      <td>57.060001</td>\n",
       "      <td>44.656990</td>\n",
       "      <td>6287200.0</td>\n",
       "      <td>2.0</td>\n",
       "    </tr>\n",
       "    <tr>\n",
       "      <th>2</th>\n",
       "      <td>2008-12-31</td>\n",
       "      <td>AXP</td>\n",
       "      <td>17.969999</td>\n",
       "      <td>18.750000</td>\n",
       "      <td>17.910000</td>\n",
       "      <td>14.988300</td>\n",
       "      <td>9625600.0</td>\n",
       "      <td>2.0</td>\n",
       "    </tr>\n",
       "    <tr>\n",
       "      <th>3</th>\n",
       "      <td>2008-12-31</td>\n",
       "      <td>BA</td>\n",
       "      <td>41.590000</td>\n",
       "      <td>43.049999</td>\n",
       "      <td>41.500000</td>\n",
       "      <td>32.005890</td>\n",
       "      <td>5443100.0</td>\n",
       "      <td>2.0</td>\n",
       "    </tr>\n",
       "    <tr>\n",
       "      <th>4</th>\n",
       "      <td>2008-12-31</td>\n",
       "      <td>CAT</td>\n",
       "      <td>43.700001</td>\n",
       "      <td>45.099998</td>\n",
       "      <td>43.700001</td>\n",
       "      <td>30.925037</td>\n",
       "      <td>6277400.0</td>\n",
       "      <td>2.0</td>\n",
       "    </tr>\n",
       "    <tr>\n",
       "      <th>5</th>\n",
       "      <td>2008-12-31</td>\n",
       "      <td>CRM</td>\n",
       "      <td>7.712500</td>\n",
       "      <td>8.130000</td>\n",
       "      <td>7.707500</td>\n",
       "      <td>8.002500</td>\n",
       "      <td>5367600.0</td>\n",
       "      <td>2.0</td>\n",
       "    </tr>\n",
       "    <tr>\n",
       "      <th>6</th>\n",
       "      <td>2008-12-31</td>\n",
       "      <td>CSCO</td>\n",
       "      <td>16.180000</td>\n",
       "      <td>16.549999</td>\n",
       "      <td>16.120001</td>\n",
       "      <td>11.938441</td>\n",
       "      <td>37513700.0</td>\n",
       "      <td>2.0</td>\n",
       "    </tr>\n",
       "    <tr>\n",
       "      <th>7</th>\n",
       "      <td>2008-12-31</td>\n",
       "      <td>CVX</td>\n",
       "      <td>72.900002</td>\n",
       "      <td>74.629997</td>\n",
       "      <td>72.900002</td>\n",
       "      <td>44.129261</td>\n",
       "      <td>9964300.0</td>\n",
       "      <td>2.0</td>\n",
       "    </tr>\n",
       "    <tr>\n",
       "      <th>8</th>\n",
       "      <td>2008-12-31</td>\n",
       "      <td>DIS</td>\n",
       "      <td>22.570000</td>\n",
       "      <td>22.950001</td>\n",
       "      <td>22.520000</td>\n",
       "      <td>19.538342</td>\n",
       "      <td>9012100.0</td>\n",
       "      <td>2.0</td>\n",
       "    </tr>\n",
       "    <tr>\n",
       "      <th>9</th>\n",
       "      <td>2008-12-31</td>\n",
       "      <td>GS</td>\n",
       "      <td>82.239998</td>\n",
       "      <td>86.150002</td>\n",
       "      <td>81.120003</td>\n",
       "      <td>69.999687</td>\n",
       "      <td>14894100.0</td>\n",
       "      <td>2.0</td>\n",
       "    </tr>\n",
       "  </tbody>\n",
       "</table>\n",
       "</div>"
      ],
      "text/plain": [
       "         date   tic       open       high        low      close       volume  \\\n",
       "0  2008-12-31  AAPL   3.070357   3.133571   3.047857   2.613433  607541200.0   \n",
       "1  2008-12-31  AMGN  57.110001  58.220001  57.060001  44.656990    6287200.0   \n",
       "2  2008-12-31   AXP  17.969999  18.750000  17.910000  14.988300    9625600.0   \n",
       "3  2008-12-31    BA  41.590000  43.049999  41.500000  32.005890    5443100.0   \n",
       "4  2008-12-31   CAT  43.700001  45.099998  43.700001  30.925037    6277400.0   \n",
       "5  2008-12-31   CRM   7.712500   8.130000   7.707500   8.002500    5367600.0   \n",
       "6  2008-12-31  CSCO  16.180000  16.549999  16.120001  11.938441   37513700.0   \n",
       "7  2008-12-31   CVX  72.900002  74.629997  72.900002  44.129261    9964300.0   \n",
       "8  2008-12-31   DIS  22.570000  22.950001  22.520000  19.538342    9012100.0   \n",
       "9  2008-12-31    GS  82.239998  86.150002  81.120003  69.999687   14894100.0   \n",
       "\n",
       "   day  \n",
       "0  2.0  \n",
       "1  2.0  \n",
       "2  2.0  \n",
       "3  2.0  \n",
       "4  2.0  \n",
       "5  2.0  \n",
       "6  2.0  \n",
       "7  2.0  \n",
       "8  2.0  \n",
       "9  2.0  "
      ]
     },
     "execution_count": 44,
     "metadata": {},
     "output_type": "execute_result"
    }
   ],
   "source": [
    "processed_full.sort_values(['date','tic'], ignore_index = True).head(10)"
   ]
  },
  {
   "cell_type": "code",
   "execution_count": 15,
   "id": "de36faa6-a887-48c0-a4b1-5370bd840f87",
   "metadata": {
    "tags": []
   },
   "outputs": [
    {
     "name": "stdout",
     "output_type": "stream",
     "text": [
      "83897 <class 'pandas.core.frame.DataFrame'>\n",
      "9773\n"
     ]
    }
   ],
   "source": [
    "train = data_split(processed_full, '2009-01-01', '2020-07-01')\n",
    "trade = data_split(processed_full, '2020-07-01', '2021-10-31')\n",
    "print(len(train), type(train))\n",
    "print(len(trade))"
   ]
  },
  {
   "cell_type": "code",
   "execution_count": 79,
   "id": "bd7396af-d795-4fd7-bbdd-cc594db4eb4d",
   "metadata": {},
   "outputs": [],
   "source": [
    "# train.tail()"
   ]
  },
  {
   "cell_type": "code",
   "execution_count": 78,
   "id": "4e4c60e0-73ea-45db-ad2f-b4461654475a",
   "metadata": {},
   "outputs": [],
   "source": [
    "# trade.head()"
   ]
  },
  {
   "cell_type": "code",
   "execution_count": 16,
   "id": "c7335e6d-b421-4a8a-8cd2-5ed8a292eb47",
   "metadata": {},
   "outputs": [
    {
     "name": "stdout",
     "output_type": "stream",
     "text": [
      "Stock Dimension: 29, State Space: 59\n"
     ]
    }
   ],
   "source": [
    "# config.TECHNICAL_INDICATORS_LIST\n",
    "stock_dimension = len(train.tic.unique())\n",
    "state_space = 1 + 2*stock_dimension\n",
    "print(f'Stock Dimension: {stock_dimension}, State Space: {state_space}')"
   ]
  },
  {
   "cell_type": "code",
   "execution_count": null,
   "id": "c252aa59-70e6-4623-a1be-3da618f41a38",
   "metadata": {},
   "outputs": [],
   "source": [
    "# print(config.DOW_30_TICKER)\n",
    "# print(train.tic.unique())\n",
    "# [x for x in config.DOW_30_TICKER if x not in train.tic.unique()]"
   ]
  },
  {
   "cell_type": "markdown",
   "id": "964d3a79-0474-4c14-b660-5b39be35d61c",
   "metadata": {},
   "source": [
    "Environment Initialisation is left but it won't take long. There are parameters in which to look in."
   ]
  },
  {
   "cell_type": "code",
   "execution_count": 28,
   "id": "66f18c3e-0e2b-45a6-ae2e-5b37c77bc84c",
   "metadata": {},
   "outputs": [
    {
     "data": {
      "text/plain": [
       "<stable_baselines3.common.vec_env.dummy_vec_env.DummyVecEnv at 0x7ff76d47c760>"
      ]
     },
     "execution_count": 28,
     "metadata": {},
     "output_type": "execute_result"
    }
   ],
   "source": [
    "env_kwargs = {\n",
    "    'hmax':100,\n",
    "    'initial_amount': 1000000,\n",
    "    'buy_cost_pct'  : 0.001, \n",
    "    'sell_cost_pct' : 0.001,\n",
    "    'state_space'   : state_space, \n",
    "    'stock_dim'     : stock_dimension, \n",
    "    'tech_indicator_list' : [],\n",
    "    'action_space'        : stock_dimension, \n",
    "    'reward_scaling'      : 1e-4}\n",
    "e_train_gym = StockTradingEnv(df = train, **env_kwargs)\n",
    "env_train, e = e_train_gym.get_sb_env()\n",
    "type(e_train_gym), type(env_train)\n",
    "env_train"
   ]
  }
 ],
 "metadata": {
  "kernelspec": {
   "display_name": "Python 3",
   "language": "python",
   "name": "python3"
  },
  "language_info": {
   "codemirror_mode": {
    "name": "ipython",
    "version": 3
   },
   "file_extension": ".py",
   "mimetype": "text/x-python",
   "name": "python",
   "nbconvert_exporter": "python",
   "pygments_lexer": "ipython3",
   "version": "3.9.5"
  }
 },
 "nbformat": 4,
 "nbformat_minor": 5
}
